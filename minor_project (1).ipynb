{
  "nbformat": 4,
  "nbformat_minor": 0,
  "metadata": {
    "colab": {
      "name": "minor_project.ipynb",
      "provenance": [],
      "collapsed_sections": []
    },
    "kernelspec": {
      "name": "python3",
      "display_name": "Python 3"
    },
    "language_info": {
      "name": "python"
    }
  },
  "cells": [
    {
      "cell_type": "code",
      "execution_count": null,
      "metadata": {
        "id": "E1JLxhB2oFRt"
      },
      "outputs": [],
      "source": [
        "import numpy as np # linear algebra  (Converting the dataset into 1D array data)\n",
        "import pandas as pd # data processing, CSV file I/O (e.g. pd.read_csv)\n",
        "import seaborn as sns #for formatting the graphs that we have plotted \n",
        "import matplotlib.pyplot as plt #importing the graphs for visualization "
      ]
    },
    {
      "cell_type": "code",
      "source": [
        "#Reading the dataset \n",
        "df=pd.read_csv('/content/Dataset For Landslide.csv')  # Along with the file directory\n",
        "#reading the info for the dataset \n",
        "df.info()  # Prints the concise summary of the dataframe "
      ],
      "metadata": {
        "colab": {
          "base_uri": "https://localhost:8080/"
        },
        "id": "bfL3-8COozeY",
        "outputId": "61f8aded-9247-4ab1-bfe6-a591851470ef"
      },
      "execution_count": null,
      "outputs": [
        {
          "output_type": "stream",
          "name": "stdout",
          "text": [
            "<class 'pandas.core.frame.DataFrame'>\n",
            "RangeIndex: 1693 entries, 0 to 1692\n",
            "Data columns (total 23 columns):\n",
            " #   Column                Non-Null Count  Dtype  \n",
            "---  ------                --------------  -----  \n",
            " 0   id                    1693 non-null   int64  \n",
            " 1   date                  1690 non-null   object \n",
            " 2   time                  629 non-null    object \n",
            " 3   continent_code        164 non-null    object \n",
            " 4   country_name          1693 non-null   object \n",
            " 5   country_code          1693 non-null   object \n",
            " 6   state/province        1692 non-null   object \n",
            " 7   population            1693 non-null   int64  \n",
            " 8   city/town             1689 non-null   object \n",
            " 9   distance              1692 non-null   float64\n",
            " 10  location_description  551 non-null    object \n",
            " 11  latitude              1692 non-null   float64\n",
            " 12  longitude             1692 non-null   float64\n",
            " 13  geolocation           1692 non-null   object \n",
            " 14  hazard_type           1693 non-null   object \n",
            " 15  landslide_type        1692 non-null   object \n",
            " 16  landslide_size        1692 non-null   object \n",
            " 17  trigger               1691 non-null   object \n",
            " 18  storm_name            132 non-null    object \n",
            " 19  injuries              515 non-null    float64\n",
            " 20  fatalities            1446 non-null   float64\n",
            " 21  source_name           872 non-null    object \n",
            " 22  source_link           1593 non-null   object \n",
            "dtypes: float64(5), int64(2), object(16)\n",
            "memory usage: 304.3+ KB\n"
          ]
        }
      ]
    },
    {
      "cell_type": "code",
      "source": [
        "features=df.columns.values\n",
        "\n",
        "missing_val=df.isnull().sum()     #returns the number of missing values in the data set.\n",
        "non_missing_val= df.notnull().sum()   # returns the number of non-missing values in the data set.\n",
        "total_val=df.shape[0]    # stores the number of rows and columns as a tuple (number of rows, number of columns)\n",
        "\n",
        "percentage_missing=missing_val/total_val*100    # finding the total percentage of missing dataset\n",
        "percentage_missing"
      ],
      "metadata": {
        "colab": {
          "base_uri": "https://localhost:8080/"
        },
        "id": "_65eHHC-o8hB",
        "outputId": "b2794559-b965-4d46-9e9c-b0f2fa8c2dfe"
      },
      "execution_count": null,
      "outputs": [
        {
          "output_type": "execute_result",
          "data": {
            "text/plain": [
              "id                       0.000000\n",
              "date                     0.177200\n",
              "time                    62.847017\n",
              "continent_code          90.313054\n",
              "country_name             0.000000\n",
              "country_code             0.000000\n",
              "state/province           0.059067\n",
              "population               0.000000\n",
              "city/town                0.236267\n",
              "distance                 0.059067\n",
              "location_description    67.454223\n",
              "latitude                 0.059067\n",
              "longitude                0.059067\n",
              "geolocation              0.059067\n",
              "hazard_type              0.000000\n",
              "landslide_type           0.059067\n",
              "landslide_size           0.059067\n",
              "trigger                  0.118133\n",
              "storm_name              92.203190\n",
              "injuries                69.580626\n",
              "fatalities              14.589486\n",
              "source_name             48.493798\n",
              "source_link              5.906675\n",
              "dtype: float64"
            ]
          },
          "metadata": {},
          "execution_count": 3
        }
      ]
    },
    {
      "cell_type": "code",
      "source": [
        "#convert date object to datetime\n",
        "df['date_parsed']=pd.to_datetime(df['date'], format=\"%m/%d/%y\",errors='coerce')\n",
        "#convert date object to datetime\n",
        "df[df.date_parsed.isnull()] #inspect null values "
      ],
      "metadata": {
        "colab": {
          "base_uri": "https://localhost:8080/",
          "height": 289
        },
        "id": "ZL8En1bLpAGx",
        "outputId": "cdb6ef17-ef23-4833-c144-72dc4628d167"
      },
      "execution_count": null,
      "outputs": [
        {
          "output_type": "execute_result",
          "data": {
            "text/plain": [
              "        id date     time continent_code   country_name country_code  \\\n",
              "1482  7042  NaN  Morning            NaN  United States           US   \n",
              "1497  7080  NaN    13:00            NaN  United States           US   \n",
              "1526  7165  NaN    12:15            NaN  United States           US   \n",
              "\n",
              "     state/province  population      city/town  distance  ... hazard_type  \\\n",
              "1482         Kansas         857         Oregon  14.54524  ...   Landslide   \n",
              "1497           Ohio        4113  Chagrin Falls   0.71363  ...   Landslide   \n",
              "1526        Indiana        2085       Rockport   8.43158  ...   Landslide   \n",
              "\n",
              "      landslide_type  landslide_size   trigger storm_name injuries fatalities  \\\n",
              "1482        Mudslide           Small  Downpour        NaN      0.0        0.0   \n",
              "1497       Landslide           Small   Unknown        NaN      0.0        0.0   \n",
              "1526       Landslide           Small      Rain        NaN      0.0        0.0   \n",
              "\n",
              "     source_name                                        source_link  \\\n",
              "1482        KSNT  http://ksnt.com/2015/05/26/update-flooded-road...   \n",
              "1497   Cleveland  http://www.cleveland.com/chagrin-falls/index.s...   \n",
              "1526    WTHITV10  http://wthitv.com/2015/04/09/parke-county-sher...   \n",
              "\n",
              "      date_parsed  \n",
              "1482          NaT  \n",
              "1497          NaT  \n",
              "1526          NaT  \n",
              "\n",
              "[3 rows x 24 columns]"
            ],
            "text/html": [
              "\n",
              "  <div id=\"df-e7de6172-ce99-4122-a765-77c74f78e4af\">\n",
              "    <div class=\"colab-df-container\">\n",
              "      <div>\n",
              "<style scoped>\n",
              "    .dataframe tbody tr th:only-of-type {\n",
              "        vertical-align: middle;\n",
              "    }\n",
              "\n",
              "    .dataframe tbody tr th {\n",
              "        vertical-align: top;\n",
              "    }\n",
              "\n",
              "    .dataframe thead th {\n",
              "        text-align: right;\n",
              "    }\n",
              "</style>\n",
              "<table border=\"1\" class=\"dataframe\">\n",
              "  <thead>\n",
              "    <tr style=\"text-align: right;\">\n",
              "      <th></th>\n",
              "      <th>id</th>\n",
              "      <th>date</th>\n",
              "      <th>time</th>\n",
              "      <th>continent_code</th>\n",
              "      <th>country_name</th>\n",
              "      <th>country_code</th>\n",
              "      <th>state/province</th>\n",
              "      <th>population</th>\n",
              "      <th>city/town</th>\n",
              "      <th>distance</th>\n",
              "      <th>...</th>\n",
              "      <th>hazard_type</th>\n",
              "      <th>landslide_type</th>\n",
              "      <th>landslide_size</th>\n",
              "      <th>trigger</th>\n",
              "      <th>storm_name</th>\n",
              "      <th>injuries</th>\n",
              "      <th>fatalities</th>\n",
              "      <th>source_name</th>\n",
              "      <th>source_link</th>\n",
              "      <th>date_parsed</th>\n",
              "    </tr>\n",
              "  </thead>\n",
              "  <tbody>\n",
              "    <tr>\n",
              "      <th>1482</th>\n",
              "      <td>7042</td>\n",
              "      <td>NaN</td>\n",
              "      <td>Morning</td>\n",
              "      <td>NaN</td>\n",
              "      <td>United States</td>\n",
              "      <td>US</td>\n",
              "      <td>Kansas</td>\n",
              "      <td>857</td>\n",
              "      <td>Oregon</td>\n",
              "      <td>14.54524</td>\n",
              "      <td>...</td>\n",
              "      <td>Landslide</td>\n",
              "      <td>Mudslide</td>\n",
              "      <td>Small</td>\n",
              "      <td>Downpour</td>\n",
              "      <td>NaN</td>\n",
              "      <td>0.0</td>\n",
              "      <td>0.0</td>\n",
              "      <td>KSNT</td>\n",
              "      <td>http://ksnt.com/2015/05/26/update-flooded-road...</td>\n",
              "      <td>NaT</td>\n",
              "    </tr>\n",
              "    <tr>\n",
              "      <th>1497</th>\n",
              "      <td>7080</td>\n",
              "      <td>NaN</td>\n",
              "      <td>13:00</td>\n",
              "      <td>NaN</td>\n",
              "      <td>United States</td>\n",
              "      <td>US</td>\n",
              "      <td>Ohio</td>\n",
              "      <td>4113</td>\n",
              "      <td>Chagrin Falls</td>\n",
              "      <td>0.71363</td>\n",
              "      <td>...</td>\n",
              "      <td>Landslide</td>\n",
              "      <td>Landslide</td>\n",
              "      <td>Small</td>\n",
              "      <td>Unknown</td>\n",
              "      <td>NaN</td>\n",
              "      <td>0.0</td>\n",
              "      <td>0.0</td>\n",
              "      <td>Cleveland</td>\n",
              "      <td>http://www.cleveland.com/chagrin-falls/index.s...</td>\n",
              "      <td>NaT</td>\n",
              "    </tr>\n",
              "    <tr>\n",
              "      <th>1526</th>\n",
              "      <td>7165</td>\n",
              "      <td>NaN</td>\n",
              "      <td>12:15</td>\n",
              "      <td>NaN</td>\n",
              "      <td>United States</td>\n",
              "      <td>US</td>\n",
              "      <td>Indiana</td>\n",
              "      <td>2085</td>\n",
              "      <td>Rockport</td>\n",
              "      <td>8.43158</td>\n",
              "      <td>...</td>\n",
              "      <td>Landslide</td>\n",
              "      <td>Landslide</td>\n",
              "      <td>Small</td>\n",
              "      <td>Rain</td>\n",
              "      <td>NaN</td>\n",
              "      <td>0.0</td>\n",
              "      <td>0.0</td>\n",
              "      <td>WTHITV10</td>\n",
              "      <td>http://wthitv.com/2015/04/09/parke-county-sher...</td>\n",
              "      <td>NaT</td>\n",
              "    </tr>\n",
              "  </tbody>\n",
              "</table>\n",
              "<p>3 rows × 24 columns</p>\n",
              "</div>\n",
              "      <button class=\"colab-df-convert\" onclick=\"convertToInteractive('df-e7de6172-ce99-4122-a765-77c74f78e4af')\"\n",
              "              title=\"Convert this dataframe to an interactive table.\"\n",
              "              style=\"display:none;\">\n",
              "        \n",
              "  <svg xmlns=\"http://www.w3.org/2000/svg\" height=\"24px\"viewBox=\"0 0 24 24\"\n",
              "       width=\"24px\">\n",
              "    <path d=\"M0 0h24v24H0V0z\" fill=\"none\"/>\n",
              "    <path d=\"M18.56 5.44l.94 2.06.94-2.06 2.06-.94-2.06-.94-.94-2.06-.94 2.06-2.06.94zm-11 1L8.5 8.5l.94-2.06 2.06-.94-2.06-.94L8.5 2.5l-.94 2.06-2.06.94zm10 10l.94 2.06.94-2.06 2.06-.94-2.06-.94-.94-2.06-.94 2.06-2.06.94z\"/><path d=\"M17.41 7.96l-1.37-1.37c-.4-.4-.92-.59-1.43-.59-.52 0-1.04.2-1.43.59L10.3 9.45l-7.72 7.72c-.78.78-.78 2.05 0 2.83L4 21.41c.39.39.9.59 1.41.59.51 0 1.02-.2 1.41-.59l7.78-7.78 2.81-2.81c.8-.78.8-2.07 0-2.86zM5.41 20L4 18.59l7.72-7.72 1.47 1.35L5.41 20z\"/>\n",
              "  </svg>\n",
              "      </button>\n",
              "      \n",
              "  <style>\n",
              "    .colab-df-container {\n",
              "      display:flex;\n",
              "      flex-wrap:wrap;\n",
              "      gap: 12px;\n",
              "    }\n",
              "\n",
              "    .colab-df-convert {\n",
              "      background-color: #E8F0FE;\n",
              "      border: none;\n",
              "      border-radius: 50%;\n",
              "      cursor: pointer;\n",
              "      display: none;\n",
              "      fill: #1967D2;\n",
              "      height: 32px;\n",
              "      padding: 0 0 0 0;\n",
              "      width: 32px;\n",
              "    }\n",
              "\n",
              "    .colab-df-convert:hover {\n",
              "      background-color: #E2EBFA;\n",
              "      box-shadow: 0px 1px 2px rgba(60, 64, 67, 0.3), 0px 1px 3px 1px rgba(60, 64, 67, 0.15);\n",
              "      fill: #174EA6;\n",
              "    }\n",
              "\n",
              "    [theme=dark] .colab-df-convert {\n",
              "      background-color: #3B4455;\n",
              "      fill: #D2E3FC;\n",
              "    }\n",
              "\n",
              "    [theme=dark] .colab-df-convert:hover {\n",
              "      background-color: #434B5C;\n",
              "      box-shadow: 0px 1px 3px 1px rgba(0, 0, 0, 0.15);\n",
              "      filter: drop-shadow(0px 1px 2px rgba(0, 0, 0, 0.3));\n",
              "      fill: #FFFFFF;\n",
              "    }\n",
              "  </style>\n",
              "\n",
              "      <script>\n",
              "        const buttonEl =\n",
              "          document.querySelector('#df-e7de6172-ce99-4122-a765-77c74f78e4af button.colab-df-convert');\n",
              "        buttonEl.style.display =\n",
              "          google.colab.kernel.accessAllowed ? 'block' : 'none';\n",
              "\n",
              "        async function convertToInteractive(key) {\n",
              "          const element = document.querySelector('#df-e7de6172-ce99-4122-a765-77c74f78e4af');\n",
              "          const dataTable =\n",
              "            await google.colab.kernel.invokeFunction('convertToInteractive',\n",
              "                                                     [key], {});\n",
              "          if (!dataTable) return;\n",
              "\n",
              "          const docLinkHtml = 'Like what you see? Visit the ' +\n",
              "            '<a target=\"_blank\" href=https://colab.research.google.com/notebooks/data_table.ipynb>data table notebook</a>'\n",
              "            + ' to learn more about interactive tables.';\n",
              "          element.innerHTML = '';\n",
              "          dataTable['output_type'] = 'display_data';\n",
              "          await google.colab.output.renderOutput(dataTable, element);\n",
              "          const docLink = document.createElement('div');\n",
              "          docLink.innerHTML = docLinkHtml;\n",
              "          element.appendChild(docLink);\n",
              "        }\n",
              "      </script>\n",
              "    </div>\n",
              "  </div>\n",
              "  "
            ]
          },
          "metadata": {},
          "execution_count": 4
        }
      ]
    },
    {
      "cell_type": "code",
      "source": [
        "df.dropna(subset=['date_parsed'], how='any', inplace=True)  # Dropna method will modify the dataset directly\n",
        "df.info() #inspect df again "
      ],
      "metadata": {
        "colab": {
          "base_uri": "https://localhost:8080/"
        },
        "id": "Kd-90vkvpDql",
        "outputId": "d19499bf-edbc-411c-f925-5d544f98e42f"
      },
      "execution_count": null,
      "outputs": [
        {
          "output_type": "stream",
          "name": "stdout",
          "text": [
            "<class 'pandas.core.frame.DataFrame'>\n",
            "Int64Index: 1690 entries, 0 to 1692\n",
            "Data columns (total 24 columns):\n",
            " #   Column                Non-Null Count  Dtype         \n",
            "---  ------                --------------  -----         \n",
            " 0   id                    1690 non-null   int64         \n",
            " 1   date                  1690 non-null   object        \n",
            " 2   time                  626 non-null    object        \n",
            " 3   continent_code        164 non-null    object        \n",
            " 4   country_name          1690 non-null   object        \n",
            " 5   country_code          1690 non-null   object        \n",
            " 6   state/province        1689 non-null   object        \n",
            " 7   population            1690 non-null   int64         \n",
            " 8   city/town             1686 non-null   object        \n",
            " 9   distance              1689 non-null   float64       \n",
            " 10  location_description  548 non-null    object        \n",
            " 11  latitude              1689 non-null   float64       \n",
            " 12  longitude             1689 non-null   float64       \n",
            " 13  geolocation           1689 non-null   object        \n",
            " 14  hazard_type           1690 non-null   object        \n",
            " 15  landslide_type        1689 non-null   object        \n",
            " 16  landslide_size        1689 non-null   object        \n",
            " 17  trigger               1688 non-null   object        \n",
            " 18  storm_name            132 non-null    object        \n",
            " 19  injuries              512 non-null    float64       \n",
            " 20  fatalities            1443 non-null   float64       \n",
            " 21  source_name           869 non-null    object        \n",
            " 22  source_link           1590 non-null   object        \n",
            " 23  date_parsed           1690 non-null   datetime64[ns]\n",
            "dtypes: datetime64[ns](1), float64(5), int64(2), object(16)\n",
            "memory usage: 330.1+ KB\n"
          ]
        }
      ]
    },
    {
      "cell_type": "code",
      "source": [
        "df['day']=df['date_parsed'].dt.day_name()  #convert date to a day of the week\n",
        "df['month']=df['date_parsed'].dt.month_name() #convert date to month of a week"
      ],
      "metadata": {
        "id": "4VyeQOy3pJoJ"
      },
      "execution_count": null,
      "outputs": []
    },
    {
      "cell_type": "code",
      "source": [
        "plt.figure(figsize=(15,6)) \n",
        "sns.countplot(x=df['day'])   # show the count of the observation\n",
        "plt.title('Days of the week from year 2007 to 2016')"
      ],
      "metadata": {
        "colab": {
          "base_uri": "https://localhost:8080/",
          "height": 421
        },
        "id": "C7SaMjUQpMmx",
        "outputId": "a4bcb8d4-569e-4e0f-84e4-33299ec851c9"
      },
      "execution_count": null,
      "outputs": [
        {
          "output_type": "execute_result",
          "data": {
            "text/plain": [
              "Text(0.5, 1.0, 'Days of the week from year 2007 to 2016')"
            ]
          },
          "metadata": {},
          "execution_count": 7
        },
        {
          "output_type": "display_data",
          "data": {
            "text/plain": [
              "<Figure size 1080x432 with 1 Axes>"
            ],
            "image/png": "[encoded data removed]"
          },
          "metadata": {
            "needs_background": "light"
          }
        }
      ]
    },
    {
      "cell_type": "code",
      "source": [
        "plt.figure(figsize=(15,6))     #Plotting Function\n",
        "sns.countplot(x=df['month']) #Show the count of the Observation\n",
        "plt.title('Landslides across month from the year 2007 to 2016')"
      ],
      "metadata": {
        "colab": {
          "base_uri": "https://localhost:8080/",
          "height": 421
        },
        "id": "3Chow9qCpO-p",
        "outputId": "a72a7e05-a30e-4b72-e58a-913f55363f19"
      },
      "execution_count": null,
      "outputs": [
        {
          "output_type": "execute_result",
          "data": {
            "text/plain": [
              "Text(0.5, 1.0, 'Landslides across month from the year 2007 to 2016')"
            ]
          },
          "metadata": {},
          "execution_count": 8
        },
        {
          "output_type": "display_data",
          "data": {
            "text/plain": [
              "<Figure size 1080x432 with 1 Axes>"
            ],
            "image/png": "[encoded data removed]"
          },
          "metadata": {
            "needs_background": "light"
          }
        }
      ]
    }
  ]
}